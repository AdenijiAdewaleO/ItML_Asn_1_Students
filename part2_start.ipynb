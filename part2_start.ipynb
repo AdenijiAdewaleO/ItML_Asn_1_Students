{
 "cells": [
  {
   "cell_type": "code",
   "execution_count": 1,
   "metadata": {},
   "outputs": [],
   "source": [
    "import pandas as pd\n",
    "import numpy as np\n",
    "\n",
    "#Sklearn for model fitting and scroing\n",
    "from sklearn.tree import DecisionTreeClassifier\n",
    "from sklearn.tree import plot_tree\n",
    "from sklearn.model_selection import train_test_split\n",
    "from sklearn.preprocessing import StandardScaler\n",
    "from sklearn.pipeline import Pipeline\n",
    "from sklearn.model_selection import cross_val_score\n",
    "from sklearn.metrics import roc_auc_score\n",
    "from sklearn.metrics import accuracy_score\n",
    "\n",
    "##Seaborn for fancy plots. \n",
    "import matplotlib.pyplot as plt\n",
    "import seaborn as sns\n",
    "plt.rcParams[\"figure.figsize\"] = (8,8)"
   ]
  },
  {
   "attachments": {},
   "cell_type": "markdown",
   "metadata": {},
   "source": [
    "## 3950 Assignment 1: Part 2\n",
    "\n",
    "For this assignment we want to use some sort of tree based model to classify the data below. We have a very small training set, so overfitting is a very real concern. \n",
    "\n",
    "Some specifics for this assignment:\n",
    "<ul>\n",
    "<li>Please use the show_eda to control if EDA stuff is shown. I don't really need to see all the EDA stuff (nor do you after you've done it), so we can make it configurable with a variable to speed up time. Please set this FALSE when you submit, so I can run all and see the outcome without histograms etc...\n",
    "<li>Please ensure that whatever model you end up with is in a variable named best at the end.\n",
    "<li>Please use some pipeline in prepping the data. The test data is in an identical format to the training data, so whatever pipeline you've created for your training will work for the testing. \n",
    "<li>The accuracy scoring will be an average of accuracy and roc_auc. \n",
    "</ul>\n",
    "\n",
    "### Grading Metrics\n",
    "<ul>\n",
    "<li><b>Pipeline Used - 10pts</b> The data loading needs to be in a pipeline. See the test part for illustration. When testing I'll call your pipe with the new data (format is identical to training), so any prep stuff should be in the pipeline. \n",
    "<li><b>Tree Based Model Used - 5pts</b> The model used for classification needs to be some variety of tree, beyond that it is up to you. \n",
    "<li><b>Accuracy - 5pts</b> The final accuracy acheived. This will be a rough ranking, I'm assuming most people will get a similar level of accuracy, marks will only be deducted if yours is far wosrse, as that's an indication that you probably didn't take any/many steps to improve things. \n",
    "<li><b>Clarity and Formatting - 5pts</b> Is it organized and can I read it?\n",
    "    <ul>\n",
    "    <li> <b>Note:</b> for this assignment, and in general, please get rid of my comments and replace them with your own. I'm going to read this, so all of these instructions aren't really required. Think of this as a template, get rid of the stuff that isn't needed, and leave only the things you need to explain your code. \n",
    "    </ul>\n",
    "</ul>\n",
    "\n",
    "For submission, please drop the URL for your repository in the dropbox."
   ]
  },
  {
   "cell_type": "code",
   "execution_count": 2,
   "metadata": {},
   "outputs": [],
   "source": [
    "#Student name.\n",
    "name = \"Adewale Adeniji\"\n",
    "\n",
    "#EDA control. \n",
    "show_eda = False"
   ]
  },
  {
   "cell_type": "code",
   "execution_count": 3,
   "metadata": {},
   "outputs": [
    {
     "data": {
      "text/html": [
       "<div>\n",
       "<style scoped>\n",
       "    .dataframe tbody tr th:only-of-type {\n",
       "        vertical-align: middle;\n",
       "    }\n",
       "\n",
       "    .dataframe tbody tr th {\n",
       "        vertical-align: top;\n",
       "    }\n",
       "\n",
       "    .dataframe thead th {\n",
       "        text-align: right;\n",
       "    }\n",
       "</style>\n",
       "<table border=\"1\" class=\"dataframe\">\n",
       "  <thead>\n",
       "    <tr style=\"text-align: right;\">\n",
       "      <th></th>\n",
       "      <th>target</th>\n",
       "      <th>var_1</th>\n",
       "      <th>var_2</th>\n",
       "      <th>var_3</th>\n",
       "      <th>var_4</th>\n",
       "      <th>var_5</th>\n",
       "      <th>var_6</th>\n",
       "      <th>var_7</th>\n",
       "      <th>var_8</th>\n",
       "      <th>var_9</th>\n",
       "      <th>...</th>\n",
       "      <th>var_191</th>\n",
       "      <th>var_192</th>\n",
       "      <th>var_193</th>\n",
       "      <th>var_194</th>\n",
       "      <th>var_195</th>\n",
       "      <th>var_196</th>\n",
       "      <th>var_197</th>\n",
       "      <th>var_198</th>\n",
       "      <th>var_199</th>\n",
       "      <th>var_200</th>\n",
       "    </tr>\n",
       "  </thead>\n",
       "  <tbody>\n",
       "    <tr>\n",
       "      <th>20</th>\n",
       "      <td>1</td>\n",
       "      <td>0.638</td>\n",
       "      <td>0.094</td>\n",
       "      <td>0.697</td>\n",
       "      <td>0.910</td>\n",
       "      <td>0.391</td>\n",
       "      <td>0.028</td>\n",
       "      <td>0.567</td>\n",
       "      <td>0.535</td>\n",
       "      <td>0.067</td>\n",
       "      <td>...</td>\n",
       "      <td>0.173</td>\n",
       "      <td>0.062</td>\n",
       "      <td>0.949</td>\n",
       "      <td>0.063</td>\n",
       "      <td>0.085</td>\n",
       "      <td>0.870</td>\n",
       "      <td>0.149</td>\n",
       "      <td>0.845</td>\n",
       "      <td>0.848</td>\n",
       "      <td>0.502</td>\n",
       "    </tr>\n",
       "    <tr>\n",
       "      <th>35</th>\n",
       "      <td>1</td>\n",
       "      <td>0.842</td>\n",
       "      <td>0.339</td>\n",
       "      <td>0.893</td>\n",
       "      <td>0.036</td>\n",
       "      <td>0.378</td>\n",
       "      <td>0.477</td>\n",
       "      <td>0.485</td>\n",
       "      <td>0.485</td>\n",
       "      <td>0.602</td>\n",
       "      <td>...</td>\n",
       "      <td>0.457</td>\n",
       "      <td>0.930</td>\n",
       "      <td>0.684</td>\n",
       "      <td>0.340</td>\n",
       "      <td>0.308</td>\n",
       "      <td>0.536</td>\n",
       "      <td>0.638</td>\n",
       "      <td>0.414</td>\n",
       "      <td>0.530</td>\n",
       "      <td>0.785</td>\n",
       "    </tr>\n",
       "    <tr>\n",
       "      <th>124</th>\n",
       "      <td>0</td>\n",
       "      <td>0.244</td>\n",
       "      <td>0.030</td>\n",
       "      <td>0.627</td>\n",
       "      <td>0.907</td>\n",
       "      <td>0.047</td>\n",
       "      <td>0.127</td>\n",
       "      <td>0.073</td>\n",
       "      <td>0.615</td>\n",
       "      <td>0.032</td>\n",
       "      <td>...</td>\n",
       "      <td>0.730</td>\n",
       "      <td>0.364</td>\n",
       "      <td>0.125</td>\n",
       "      <td>0.291</td>\n",
       "      <td>0.138</td>\n",
       "      <td>0.494</td>\n",
       "      <td>0.921</td>\n",
       "      <td>0.595</td>\n",
       "      <td>0.399</td>\n",
       "      <td>0.445</td>\n",
       "    </tr>\n",
       "    <tr>\n",
       "      <th>39</th>\n",
       "      <td>1</td>\n",
       "      <td>0.945</td>\n",
       "      <td>0.604</td>\n",
       "      <td>0.381</td>\n",
       "      <td>0.724</td>\n",
       "      <td>0.863</td>\n",
       "      <td>0.378</td>\n",
       "      <td>0.724</td>\n",
       "      <td>0.950</td>\n",
       "      <td>0.663</td>\n",
       "      <td>...</td>\n",
       "      <td>0.951</td>\n",
       "      <td>0.568</td>\n",
       "      <td>0.413</td>\n",
       "      <td>0.225</td>\n",
       "      <td>0.434</td>\n",
       "      <td>0.810</td>\n",
       "      <td>0.866</td>\n",
       "      <td>0.583</td>\n",
       "      <td>0.462</td>\n",
       "      <td>0.671</td>\n",
       "    </tr>\n",
       "    <tr>\n",
       "      <th>25</th>\n",
       "      <td>1</td>\n",
       "      <td>0.043</td>\n",
       "      <td>0.650</td>\n",
       "      <td>0.220</td>\n",
       "      <td>0.274</td>\n",
       "      <td>0.010</td>\n",
       "      <td>0.543</td>\n",
       "      <td>0.409</td>\n",
       "      <td>0.353</td>\n",
       "      <td>0.078</td>\n",
       "      <td>...</td>\n",
       "      <td>0.167</td>\n",
       "      <td>0.597</td>\n",
       "      <td>0.295</td>\n",
       "      <td>0.670</td>\n",
       "      <td>0.828</td>\n",
       "      <td>0.444</td>\n",
       "      <td>0.512</td>\n",
       "      <td>0.002</td>\n",
       "      <td>0.136</td>\n",
       "      <td>0.857</td>\n",
       "    </tr>\n",
       "  </tbody>\n",
       "</table>\n",
       "<p>5 rows × 201 columns</p>\n",
       "</div>"
      ],
      "text/plain": [
       "     target  var_1  var_2  var_3  var_4  var_5  var_6  var_7  var_8  var_9  \\\n",
       "20        1  0.638  0.094  0.697  0.910  0.391  0.028  0.567  0.535  0.067   \n",
       "35        1  0.842  0.339  0.893  0.036  0.378  0.477  0.485  0.485  0.602   \n",
       "124       0  0.244  0.030  0.627  0.907  0.047  0.127  0.073  0.615  0.032   \n",
       "39        1  0.945  0.604  0.381  0.724  0.863  0.378  0.724  0.950  0.663   \n",
       "25        1  0.043  0.650  0.220  0.274  0.010  0.543  0.409  0.353  0.078   \n",
       "\n",
       "     ...  var_191  var_192  var_193  var_194  var_195  var_196  var_197  \\\n",
       "20   ...    0.173    0.062    0.949    0.063    0.085    0.870    0.149   \n",
       "35   ...    0.457    0.930    0.684    0.340    0.308    0.536    0.638   \n",
       "124  ...    0.730    0.364    0.125    0.291    0.138    0.494    0.921   \n",
       "39   ...    0.951    0.568    0.413    0.225    0.434    0.810    0.866   \n",
       "25   ...    0.167    0.597    0.295    0.670    0.828    0.444    0.512   \n",
       "\n",
       "     var_198  var_199  var_200  \n",
       "20     0.845    0.848    0.502  \n",
       "35     0.414    0.530    0.785  \n",
       "124    0.595    0.399    0.445  \n",
       "39     0.583    0.462    0.671  \n",
       "25     0.002    0.136    0.857  \n",
       "\n",
       "[5 rows x 201 columns]"
      ]
     },
     "execution_count": 3,
     "metadata": {},
     "output_type": "execute_result"
    }
   ],
   "source": [
    "#Load data\n",
    "df = pd.read_csv(\"training.csv\")\n",
    "df = df.drop(columns={\"id\"})\n",
    "df.sample(5)"
   ]
  },
  {
   "cell_type": "markdown",
   "metadata": {},
   "source": [
    "### Starting\n",
    "\n",
    "The first stage will be to look at the data in an initial exploratory data analysis. We know that our data is made up of numerical variables and is in a standardized form. The records are complete and there are non null values, so the data is in a clean state."
   ]
  },
  {
   "cell_type": "code",
   "execution_count": 13,
   "metadata": {},
   "outputs": [],
   "source": [
    "import ml_utils\n",
    "df_eda = ml_utils.edaDF(df, \"target\")\n",
    "num_var = list(df.columns)\n",
    "df_eda.setNum(num_var)"
   ]
  },
  {
   "cell_type": "code",
   "execution_count": 14,
   "metadata": {},
   "outputs": [
    {
     "data": {
      "application/vnd.jupyter.widget-view+json": {
       "model_id": "4165080c21314e6e92edde9ff3d60f26",
       "version_major": 2,
       "version_minor": 0
      },
      "text/plain": [
       "Tab(children=(Output(), Output(), Output(), Output()), selected_index=0, titles=('Info', 'Statistics', 'Catego…"
      ]
     },
     "metadata": {},
     "output_type": "display_data"
    }
   ],
   "source": [
    "df_eda.fullEDA()\n"
   ]
  },
  {
   "cell_type": "code",
   "execution_count": 6,
   "metadata": {},
   "outputs": [
    {
     "data": {
      "text/plain": [
       "(250, 201)"
      ]
     },
     "execution_count": 6,
     "metadata": {},
     "output_type": "execute_result"
    }
   ],
   "source": [
    "df.shape"
   ]
  },
  {
   "cell_type": "markdown",
   "metadata": {},
   "source": [
    "### Model fitting\n",
    "\n",
    "As mentioned above, our data is in a clean state and as such, we will proceed to model fitting. \n",
    "The model that is used is the DecisionTreeClassifier.\n",
    "Conidering that the data set is small-sized (250 rows of data), we will use a 70/30 percent split for the train/test data."
   ]
  },
  {
   "cell_type": "code",
   "execution_count": 15,
   "metadata": {},
   "outputs": [],
   "source": [
    "y = np.array(df[\"target\"]).reshape(-1,1)\n",
    "X = np.array(df.drop(columns={\"target\"}))\n",
    "\n",
    "#train size = 70%\n",
    "X_train, X_test, y_train, y_test = train_test_split(X, y, random_state=0, train_size=.7)\n"
   ]
  },
  {
   "cell_type": "markdown",
   "metadata": {},
   "source": [
    "Model 1: Here, the DecisionTreeClassifier is used with default hyperparameters "
   ]
  },
  {
   "cell_type": "code",
   "execution_count": 16,
   "metadata": {},
   "outputs": [
    {
     "name": "stdout",
     "output_type": "stream",
     "text": [
      "Training Accuracy: 1.0\n",
      "Testing Accuracy: 0.6266666666666667\n"
     ]
    }
   ],
   "source": [
    "pipeline_model1 = [\n",
    "    ('scaler', StandardScaler()),\n",
    "    ('DT', DecisionTreeClassifier(random_state=0))\n",
    "    ]\n",
    "\n",
    "model1 = Pipeline(pipeline_model1)\n",
    "model1 = model1.fit(X_train, y_train)\n",
    "print(\"Training Accuracy:\", model1.score(X_train, y_train))\n",
    "print(\"Testing Accuracy:\", model1.score(X_test, y_test))"
   ]
  },
  {
   "cell_type": "markdown",
   "metadata": {},
   "source": [
    "Model 2: The DecisionTreeClassifier is used with the criterion set to \"entropy\". \n",
    "We noticed that there is not so much difference in the testing accuracy "
   ]
  },
  {
   "cell_type": "code",
   "execution_count": 17,
   "metadata": {},
   "outputs": [
    {
     "name": "stdout",
     "output_type": "stream",
     "text": [
      "Training Accuracy: 1.0\n",
      "Testing Accuracy: 0.6133333333333333\n"
     ]
    }
   ],
   "source": [
    "\n",
    "pipeline_model2 = [\n",
    "    ('scaler', StandardScaler()),\n",
    "    ('DT', DecisionTreeClassifier(random_state=0, criterion=\"entropy\"))\n",
    "    ]\n",
    "model2 = Pipeline(pipeline_model2)\n",
    "model2 = model2.fit(X_train, y_train)\n",
    "print(\"Training Accuracy:\", model2.score(X_train, y_train))\n",
    "print(\"Testing Accuracy:\", model2.score(X_test, y_test))"
   ]
  },
  {
   "cell_type": "markdown",
   "metadata": {},
   "source": [
    "Model 3: The DecisionTreeClassifier is used with the criterion set default and max_depth set to 5. \n",
    "There was improvement in the testing accuracy while the traininig accuracy dropped slightly. This was considered as the best model because further tuning seems not to yield better results."
   ]
  },
  {
   "cell_type": "code",
   "execution_count": 19,
   "metadata": {},
   "outputs": [
    {
     "name": "stdout",
     "output_type": "stream",
     "text": [
      "Training Accuracy: 0.9257142857142857\n",
      "Testing Accuracy: 0.64\n"
     ]
    }
   ],
   "source": [
    "#Build pipeline\n",
    "pipeline_best = [\n",
    "    ('scaler', StandardScaler()),\n",
    "    ('DT', DecisionTreeClassifier(random_state=0, max_depth=5))\n",
    "    ]\n",
    "\n",
    "best = Pipeline(pipeline_best)\n",
    "best = best.fit(X_train, y_train)\n",
    "print(\"Training Accuracy:\", best.score(X_train, y_train))\n",
    "print(\"Testing Accuracy:\", best.score(X_test, y_test))"
   ]
  },
  {
   "cell_type": "markdown",
   "metadata": {},
   "source": [
    "### Finishing\n",
    "\n",
    "At the conclusion, please name your best model \"best\". If you look down below in the testing stuff, it should be usable to score as \"best\". \n",
    "\n",
    "You should be able to call it like this and it should work (with whatever data names you have)"
   ]
  },
  {
   "cell_type": "code",
   "execution_count": 21,
   "metadata": {},
   "outputs": [
    {
     "name": "stdout",
     "output_type": "stream",
     "text": [
      "0.64\n",
      "Pipeline(steps=[('scaler', StandardScaler()),\n",
      "                ('DT', DecisionTreeClassifier(max_depth=5, random_state=0))])\n"
     ]
    }
   ],
   "source": [
    "print(best.score(X_test, y_test))\n",
    "print(best)"
   ]
  },
  {
   "cell_type": "markdown",
   "metadata": {},
   "source": [
    "### Testing\n",
    "\n",
    "Please leave the stuff below as-is in your file. \n",
    "\n",
    "This will take your best model and score it with the test data. If you want to test to make sure that yours works, make a copy of the data file and rename it testing.csv, then make sure this runs ok. I will do the same, but the contents of my test file will be different. "
   ]
  },
  {
   "cell_type": "code",
   "execution_count": 20,
   "metadata": {},
   "outputs": [
    {
     "name": "stdout",
     "output_type": "stream",
     "text": [
      "0.5429167644854836\n",
      "0.5427848101265823\n",
      "Adewale Adeniji 0.542850787306033\n"
     ]
    }
   ],
   "source": [
    "#Load Test Data\n",
    "test_df = pd.read_csv(\"testing.csv\")\n",
    "test_df = test_df.drop(columns={\"id\"})\n",
    "#Create tests and score\n",
    "test_y = np.array(test_df[\"target\"]).reshape(-1,1)\n",
    "test_X = np.array(test_df.drop(columns={\"target\"}))\n",
    "\n",
    "preds = best.predict(test_X)\n",
    "\n",
    "roc_score = roc_auc_score(test_y, preds)\n",
    "acc_score = accuracy_score(test_y, preds)\n",
    "\n",
    "print(roc_score)\n",
    "print(acc_score)\n",
    "print(name, np.mean([roc_score, acc_score]))\n"
   ]
  },
  {
   "attachments": {},
   "cell_type": "markdown",
   "metadata": {},
   "source": [
    "### What Accuracy Changes Were Used\n",
    "\n",
    "Please list here what you did to try to increase accuracy and/or limit overfitting:\n",
    "<ul> \n",
    "<li>The first step was to change the diffult train_size of the train_test_split to 0.7 so as to have more data for testing.\n",
    "<li>Secondly, the max_depth of the DecisionTreeClassifier was set to 5 as this was found to produce the best result for the test data.\n",
    "</ul>"
   ]
  }
 ],
 "metadata": {
  "interpreter": {
   "hash": "4d722d3adfa415172c1f5238b519fb86b488acdae450fd691ab06c09f4ca9173"
  },
  "kernelspec": {
   "display_name": "Python 3.9.7 64-bit ('ml3950': conda)",
   "language": "python",
   "name": "python3"
  },
  "language_info": {
   "codemirror_mode": {
    "name": "ipython",
    "version": 3
   },
   "file_extension": ".py",
   "mimetype": "text/x-python",
   "name": "python",
   "nbconvert_exporter": "python",
   "pygments_lexer": "ipython3",
   "version": "3.11.4"
  },
  "orig_nbformat": 4
 },
 "nbformat": 4,
 "nbformat_minor": 2
}
